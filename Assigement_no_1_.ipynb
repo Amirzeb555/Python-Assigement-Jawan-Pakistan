{
  "nbformat": 4,
  "nbformat_minor": 0,
  "metadata": {
    "colab": {
      "name": "Assigement no 1 .ipynb",
      "provenance": [],
      "authorship_tag": "ABX9TyM93PACg+VS4FZbsAUs54Xa",
      "include_colab_link": true
    },
    "kernelspec": {
      "name": "python3",
      "display_name": "Python 3"
    },
    "language_info": {
      "name": "python"
    }
  },
  "cells": [
    {
      "cell_type": "markdown",
      "metadata": {
        "id": "view-in-github",
        "colab_type": "text"
      },
      "source": [
        "<a href=\"https://colab.research.google.com/github/Amirzeb555/Python-Assigement-Jawan-Pakistan/blob/main/Assigement_no_1_.ipynb\" target=\"_parent\"><img src=\"https://colab.research.google.com/assets/colab-badge.svg\" alt=\"Open In Colab\"/></a>"
      ]
    },
    {
      "cell_type": "code",
      "source": [
        ""
      ],
      "metadata": {
        "id": "0a5scM3IXie0"
      },
      "execution_count": null,
      "outputs": []
    },
    {
      "cell_type": "markdown",
      "source": [
        "Amir zeb \n",
        "Kpk Peshawar \n",
        "Jawan Pakistan Data Science First Assigement"
      ],
      "metadata": {
        "id": "RuLt4viQeroz"
      }
    },
    {
      "cell_type": "markdown",
      "source": [
        "Question no 1"
      ],
      "metadata": {
        "id": "kpFEDr4jd9-x"
      }
    },
    {
      "cell_type": "code",
      "source": [
        "print(\"Twinkle, twinkle, little star, \\n\\tHow I wonder what you are! \\n\\t\\tUp above the world so high, \\n\\t\\tLike a diamond in the sky. \\nTwinkle, twinkle, little star, \\n\\tHow I wonder what you are!\")\n",
        "\n"
      ],
      "metadata": {
        "colab": {
          "base_uri": "https://localhost:8080/"
        },
        "id": "owmrwbksXi9g",
        "outputId": "8ccf5dd4-d1a0-4008-8082-105a3e910be5"
      },
      "execution_count": 9,
      "outputs": [
        {
          "output_type": "stream",
          "name": "stdout",
          "text": [
            "Twinkle, twinkle, little star, \n",
            "\tHow I wonder what you are! \n",
            "\t\tUp above the world so high, \n",
            "\t\tLike a diamond in the sky. \n",
            "Twinkle, twinkle, little star, \n",
            "\tHow I wonder what you are!\n"
          ]
        }
      ]
    },
    {
      "cell_type": "markdown",
      "source": [
        "Question no 2 : Write a program to display the python version"
      ],
      "metadata": {
        "id": "ooJWmmqkXjhX"
      }
    },
    {
      "cell_type": "markdown",
      "source": [
        ""
      ],
      "metadata": {
        "id": "e2lVIc-FXcDY"
      }
    },
    {
      "cell_type": "code",
      "source": [
        "import sys\n",
        "import sys\n",
        "print(\"Python version\")\n",
        "print (sys.version)"
      ],
      "metadata": {
        "colab": {
          "base_uri": "https://localhost:8080/"
        },
        "id": "qB0bCcfBXdTz",
        "outputId": "d10680c7-1b43-4d50-faa5-2d7ec3586648"
      },
      "execution_count": 4,
      "outputs": [
        {
          "output_type": "stream",
          "name": "stdout",
          "text": [
            "Python version\n",
            "3.7.12 (default, Sep 10 2021, 00:21:48) \n",
            "[GCC 7.5.0]\n"
          ]
        }
      ]
    },
    {
      "cell_type": "markdown",
      "source": [
        "Question no 3: Write a python program to get the current date and time"
      ],
      "metadata": {
        "id": "bSJriiw7X3-G"
      }
    },
    {
      "cell_type": "code",
      "source": [
        "import datetime\n",
        "now = datetime.datetime.now()\n",
        "print (\"Current date and time : \")\n",
        "print (now.strftime(\"%Y-%m-%d %H:%M:%S\"))"
      ],
      "metadata": {
        "colab": {
          "base_uri": "https://localhost:8080/"
        },
        "id": "VFS2nIT9WpY9",
        "outputId": "4a682934-3710-488d-d67d-c53692c5d98c"
      },
      "execution_count": 5,
      "outputs": [
        {
          "output_type": "stream",
          "name": "stdout",
          "text": [
            "Current date and time : \n",
            "2021-12-29 13:28:02\n"
          ]
        }
      ]
    },
    {
      "cell_type": "markdown",
      "source": [
        "  Question no 4 Write a Python program which accepts the radius of a circle from the user and compute the area."
      ],
      "metadata": {
        "id": "L4pFtfQhZAXf"
      }
    },
    {
      "cell_type": "code",
      "source": [
        "from math import pi\n",
        "r = float(input (\"Input the radius of the circle : \"))\n",
        "print (\"The area of the circle with radius \" + str(r) + \" is: \" + str(pi * r**2))"
      ],
      "metadata": {
        "id": "T1X2A_ZqYFKr"
      },
      "execution_count": null,
      "outputs": []
    },
    {
      "cell_type": "markdown",
      "source": [
        "Question no 5 Write a Python program which accepts the user's first and last name and print them in reverse order with a"
      ],
      "metadata": {
        "id": "8EYr2CYLbt6y"
      }
    },
    {
      "cell_type": "code",
      "source": [
        "\n",
        "fname = input(\"Input your First Name : \")\n",
        "\n",
        "lname = input(\"Input your Last Name : \")\n",
        "\n",
        "print (\"Welcome \" + lname + \" \" + fname)"
      ],
      "metadata": {
        "colab": {
          "base_uri": "https://localhost:8080/"
        },
        "id": "7j2n4P6kY-kh",
        "outputId": "62a6aa5c-aff6-45de-f6c4-6e8447a542f6"
      },
      "execution_count": 6,
      "outputs": [
        {
          "output_type": "stream",
          "name": "stdout",
          "text": [
            "Input your First Name : Amir\n",
            "Input your Last Name : ZEB\n",
            "Welcome ZEB Amir\n"
          ]
        }
      ]
    },
    {
      "cell_type": "markdown",
      "source": [
        "Question no 6 Write a program in python take two input from user and find addition,\n"
      ],
      "metadata": {
        "id": "eTC9hekrc0_5"
      }
    },
    {
      "cell_type": "code",
      "source": [
        "a = int(input(\"enter first number: \"))\n",
        "b = int(input(\"enter second number: \"))\n",
        "sum = a + b;\n",
        "print(\"sum:\", sum)"
      ],
      "metadata": {
        "colab": {
          "base_uri": "https://localhost:8080/"
        },
        "id": "TrCNl7BtY-0P",
        "outputId": "ec76e61d-e8f7-4537-e6b8-955c92830ccb"
      },
      "execution_count": 8,
      "outputs": [
        {
          "output_type": "stream",
          "name": "stdout",
          "text": [
            "enter first number: 34\n",
            "enter second number: 66\n",
            "sum: 100\n"
          ]
        }
      ]
    },
    {
      "cell_type": "code",
      "source": [
        ""
      ],
      "metadata": {
        "id": "NzeJg79_dEeF"
      },
      "execution_count": null,
      "outputs": []
    }
  ]
}